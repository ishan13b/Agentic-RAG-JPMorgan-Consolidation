{
 "cells": [
  {
   "cell_type": "code",
   "execution_count": 1,
   "metadata": {},
   "outputs": [
    {
     "name": "stderr",
     "output_type": "stream",
     "text": [
      "/Users/jaysinha/opt/anaconda3/envs/ml/lib/python3.10/site-packages/tqdm/auto.py:21: TqdmWarning: IProgress not found. Please update jupyter and ipywidgets. See https://ipywidgets.readthedocs.io/en/stable/user_install.html\n",
      "  from .autonotebook import tqdm as notebook_tqdm\n"
     ]
    }
   ],
   "source": [
    "from llama_index.core import SummaryIndex\n",
    "from index_data import process_all_pdfs_in_directory\n",
    "from model_utils import llm, llm_70b\n",
    "from llama_index.core import Settings\n",
    "from llama_index.core import VectorStoreIndex"
   ]
  },
  {
   "cell_type": "code",
   "execution_count": 2,
   "metadata": {},
   "outputs": [],
   "source": [
    "from llama_index.embeddings.huggingface import HuggingFaceEmbedding\n",
    "\n",
    "embed_model = HuggingFaceEmbedding(model_name=\"BAAI/bge-small-en-v1.5\")"
   ]
  },
  {
   "cell_type": "code",
   "execution_count": 3,
   "metadata": {},
   "outputs": [],
   "source": [
    "\n",
    "Settings.llm = llm\n",
    "Settings.embed_model = embed_model"
   ]
  },
  {
   "cell_type": "code",
   "execution_count": 4,
   "metadata": {},
   "outputs": [
    {
     "name": "stderr",
     "output_type": "stream",
     "text": [
      "100%|██████████| 6/6 [00:00<00:00, 65365.78it/s]\n"
     ]
    }
   ],
   "source": [
    "\n",
    "\n",
    "pdf_directory = 'data_files'\n",
    "\n",
    "data = process_all_pdfs_in_directory(pdf_directory)"
   ]
  },
  {
   "cell_type": "code",
   "execution_count": 5,
   "metadata": {},
   "outputs": [
    {
     "data": {
      "text/plain": [
       "457"
      ]
     },
     "execution_count": 5,
     "metadata": {},
     "output_type": "execute_result"
    }
   ],
   "source": [
    "len(data)"
   ]
  },
  {
   "cell_type": "code",
   "execution_count": 6,
   "metadata": {},
   "outputs": [],
   "source": [
    "summary_index = SummaryIndex.from_documents(data)\n",
    "summary_engine = summary_index.as_query_engine()"
   ]
  },
  {
   "cell_type": "code",
   "execution_count": 7,
   "metadata": {},
   "outputs": [],
   "source": [
    "# response = summary_engine.query(\n",
    "#     \"Given your assessment of this article, what is the full form of NA in JPMorgan Bank N.A.?\"\n",
    "# )"
   ]
  },
  {
   "cell_type": "code",
   "execution_count": 8,
   "metadata": {},
   "outputs": [],
   "source": [
    "response = llm.complete(\"do you like drake or kendrick better?\")"
   ]
  },
  {
   "cell_type": "code",
   "execution_count": 9,
   "metadata": {},
   "outputs": [
    {
     "name": "stdout",
     "output_type": "stream",
     "text": [
      "I don't have personal preferences or opinions, but I can provide information about both artists. \n",
      "\n",
      "Drake and Kendrick Lamar are two highly acclaimed rappers with distinct styles and contributions to the music industry. \n",
      "\n",
      "Drake is known for his emotive and introspective lyrics, often focusing on themes of relationships, fame, and personal growth. His music often blends hip-hop with R&B and pop elements, making him a versatile artist with a wide appeal.\n",
      "\n",
      "Kendrick Lamar, on the other hand, is recognized for his socially conscious and storytelling-driven lyrics, often addressing issues like racism, inequality, and personal struggle. His music often incorporates jazz and funk influences, setting him apart from other hip-hop artists.\n",
      "\n",
      "Ultimately, the choice between Drake and Kendrick Lamar comes down to personal taste and what resonates with each individual listener.\n"
     ]
    }
   ],
   "source": [
    "print(response.text)"
   ]
  },
  {
   "cell_type": "code",
   "execution_count": 10,
   "metadata": {},
   "outputs": [],
   "source": [
    "index = VectorStoreIndex.from_documents(data)\n",
    "query_engine = index.as_query_engine(similarity_top_k=24)"
   ]
  },
  {
   "cell_type": "code",
   "execution_count": 11,
   "metadata": {},
   "outputs": [
    {
     "name": "stdout",
     "output_type": "stream",
     "text": [
      "The full form of N.A. in JPMorgan Chase Bank N.A. is National Association.\n"
     ]
    }
   ],
   "source": [
    "response = query_engine.query(\"Tell me the full form of N.A. in JPMorgan Chase Bank N.A.\")\n",
    "print(response)"
   ]
  },
  {
   "cell_type": "code",
   "execution_count": 12,
   "metadata": {},
   "outputs": [],
   "source": [
    "from llama_index.core.tools import QueryEngineTool, ToolMetadata\n",
    "\n",
    "vector_tool = QueryEngineTool(\n",
    "    index.as_query_engine(),\n",
    "    metadata=ToolMetadata(\n",
    "        name=\"vector_search\",\n",
    "        description=\"Useful for searching for specific facts.\",\n",
    "    ),\n",
    ")\n",
    "\n",
    "summary_tool = QueryEngineTool(\n",
    "    summary_index.as_query_engine(response_mode=\"tree_summarize\"),\n",
    "    metadata=ToolMetadata(\n",
    "        name=\"summary\",\n",
    "        description=\"Useful for summarizing an entire document.\",\n",
    "    ),\n",
    ")"
   ]
  },
  {
   "cell_type": "code",
   "execution_count": 13,
   "metadata": {},
   "outputs": [],
   "source": [
    "from llama_index.core.query_engine import RouterQueryEngine\n",
    "\n",
    "query_engine = RouterQueryEngine.from_defaults(\n",
    "    [vector_tool, summary_tool], select_multi=False, verbose=True, llm=llm_70b\n",
    ")"
   ]
  },
  {
   "cell_type": "code",
   "execution_count": 14,
   "metadata": {},
   "outputs": [
    {
     "name": "stdout",
     "output_type": "stream",
     "text": [
      "\u001b[1;3;38;5;200mSelecting query engine 1: The question asks for differences between two reports, implying a comparison of the content of the reports, which is more aligned with summarizing an entire document..\n",
      "\u001b[0m"
     ]
    }
   ],
   "source": [
    "response = query_engine.query(\n",
    "    \"Tell me some obvious differences between June and September of 2023 reports\"\n",
    ")"
   ]
  },
  {
   "cell_type": "code",
   "execution_count": 15,
   "metadata": {},
   "outputs": [
    {
     "name": "stdout",
     "output_type": "stream",
     "text": [
      "Some obvious differences between June and September of 2023 reports could include changes in:\n",
      "\n",
      "- Total noninterest income\n",
      "- Total noninterest expense\n",
      "- Net income (loss) attributable to bank\n",
      "- Interest expense\n",
      "- Net interest income\n",
      "- Allowance for credit losses\n",
      "- Provision for credit losses\n",
      "- Number of non-performing loans\n",
      "- Credit card fees and finance charges\n",
      "- Foreign office income\n",
      "- Other noninterest income\n",
      "- Consulting and advisory expenses\n",
      "- Other real estate owned expenses\n",
      "\n",
      "Additionally, the September report might include new information and transactions that occurred between June 30, 2023, and September 30, 2023, which would not be reflected in the June report.\n",
      "\n",
      "The report from September might also include updated information on the bank's assets, liabilities, and equity, which could be different from the June report due to changes in market conditions, economic trends, or other factors.\n",
      "\n",
      "The total assets and liabilities in September 2023 are $3,385,581,000 and $3,067,739,000, respectively, which is a significant increase from the total assets and liabilities in June 2023.\n",
      "\n",
      "The total loans in domestic offices in September 2023 are $1,194,480,000, which is a significant increase from the total loans in domestic offices in June 2023.\n",
      "\n",
      "The total trading assets in September 2023 are $404,965,000, which is a substantial increase from the total trading assets in June 2023.\n",
      "\n",
      "The number of past due loans has increased between June and September of 2023, with increases in the past due 30-89 days category, other construction loans and all land development and other land loans, and commercial and industrial loans to U.S. addressees.\n",
      "\n",
      "The September report has more detailed information about the bank's loan restructuring activities, including the categorization of loans and the amounts involved, compared to the June report.\n",
      "\n",
      "The September report includes more information about the bank's derivative contracts, purchased credit-impaired loans, and custodial bank certification, which is not present in the June report.\n",
      "\n",
      "The total interest income on loans in domestic offices increased significantly from June to September 2023, with specific loan categories also showing increases.\n",
      "\n",
      "The total noninterest income increased from $45,160,000 in June to a missing value in September.\n",
      "\n",
      "The total noninterest expense increased from $56,267,000 in June to a missing value in September.\n",
      "\n",
      "The net income before change in net unrealized holding gains and losses on equity securities increased from $48,700,000 in June to a missing value in September.\n",
      "\n",
      "The applicable income taxes increased from $9,973,000 in June to a missing value in September.\n",
      "\n",
      "The net income attributable to the bank increased from $38,886,000 in June to a missing value in September.\n",
      "\n",
      "The total bank equity capital has increased, with the total bank equity capital end of current period (sum of items 3 through 11) for the September report being $317,802,000, which is higher than the December 31, 2022, balance.\n",
      "\n",
      "The provisions for credit losses have decreased, with the provisions for credit losses on other financial assets measured at amortized cost (not included in item 5, above) being -$4,000 in the September report.\n",
      "\n",
      "The allocated transfer risk reserve included in Schedule RI-B, Part II, item 7, column A, above has increased from $31,000 to $446,000.\n",
      "\n",
      "The total interest income in foreign offices increased significantly from June to September, with the total interest income in foreign offices being reported as $31,662,000 in September.\n",
      "\n",
      "The net income attributable to foreign offices before internal allocations of income and expense also increased from June to September, with this figure being reported as $7,656,000 in September.\n",
      "\n",
      "The consolidated net income attributable to foreign offices also increased from June to September, with this figure being reported as $15,265,000 in September.\n"
     ]
    }
   ],
   "source": [
    "print(response)"
   ]
  },
  {
   "cell_type": "code",
   "execution_count": 16,
   "metadata": {},
   "outputs": [
    {
     "name": "stdout",
     "output_type": "stream",
     "text": [
      "\u001b[1;3;38;5;200mSelecting query engine 0: The question asks for high level facts, which suggests the user is looking for specific information rather than a summary of an entire document..\n",
      "\u001b[0m"
     ]
    }
   ],
   "source": [
    "response = query_engine.query(\n",
    "    \"Tell me some high level facts about the June 2023 call report\"\n",
    ")"
   ]
  },
  {
   "cell_type": "code",
   "execution_count": 17,
   "metadata": {},
   "outputs": [
    {
     "name": "stdout",
     "output_type": "stream",
     "text": [
      "The June 2023 call report shows a total of $119,117,000 in pledged securities. The maturity and repricing data for debt securities indicates that the majority of these securities have a remaining maturity of over 15 years, with $153,088,000 in mortgage pass-through securities and $140,497,000 in other mortgage-backed securities falling into this category.\n"
     ]
    }
   ],
   "source": [
    "print(response)"
   ]
  },
  {
   "cell_type": "code",
   "execution_count": null,
   "metadata": {},
   "outputs": [],
   "source": []
  }
 ],
 "metadata": {
  "kernelspec": {
   "display_name": "ml",
   "language": "python",
   "name": "python3"
  },
  "language_info": {
   "codemirror_mode": {
    "name": "ipython",
    "version": 3
   },
   "file_extension": ".py",
   "mimetype": "text/x-python",
   "name": "python",
   "nbconvert_exporter": "python",
   "pygments_lexer": "ipython3",
   "version": "3.10.14"
  }
 },
 "nbformat": 4,
 "nbformat_minor": 2
}
